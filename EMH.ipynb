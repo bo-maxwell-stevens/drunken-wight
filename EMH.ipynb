{
 "metadata": {
  "name": "",
  "signature": "sha256:8182430e0c83734d06b66458979814711757570b59d7be29fa2171eedd9d2297"
 },
 "nbformat": 3,
 "nbformat_minor": 0,
 "worksheets": [
  {
   "cells": [
    {
     "cell_type": "code",
     "collapsed": false,
     "input": [
      "import pandas as pd\n",
      "import numpy as np"
     ],
     "language": "python",
     "metadata": {},
     "outputs": [],
     "prompt_number": 1
    },
    {
     "cell_type": "code",
     "collapsed": false,
     "input": [
      "data = pd.read_csv('EMH.csv')"
     ],
     "language": "python",
     "metadata": {},
     "outputs": [],
     "prompt_number": 67
    },
    {
     "cell_type": "code",
     "collapsed": false,
     "input": [
      "data['Time'].replace('Setup', 0, inplace=True)\n",
      "data['Time'].replace('H1', 1, inplace=True)\n",
      "data['Time'].replace('H2', 2, inplace=True)\n",
      "data['Time'].replace('H3', 3, inplace=True)\n",
      "data['Time'].replace('H4', 4, inplace=True)"
     ],
     "language": "python",
     "metadata": {},
     "outputs": [],
     "prompt_number": 68
    },
    {
     "cell_type": "code",
     "collapsed": false,
     "input": [
      "data['Site'] = data.Site + data.Time.map(str)"
     ],
     "language": "python",
     "metadata": {},
     "outputs": [],
     "prompt_number": 69
    },
    {
     "cell_type": "code",
     "collapsed": false,
     "input": [
      "data.sort('mesh', inplace = True)\n",
      "data.set_index(keys=['mesh'], drop=False,inplace=True)\n",
      "names = data['mesh'].unique()"
     ],
     "language": "python",
     "metadata": {},
     "outputs": [],
     "prompt_number": 71
    },
    {
     "cell_type": "code",
     "collapsed": false,
     "input": [
      "y = data.loc[data.mesh == 'y']\n",
      "n = data.loc[data.mesh == 'n']"
     ],
     "language": "python",
     "metadata": {},
     "outputs": [],
     "prompt_number": 74
    },
    {
     "cell_type": "code",
     "collapsed": false,
     "input": [
      "meshy = y.groupby('Site').aggregate(np.average)\n",
      "meshn = n.groupby('Site').aggregate(np.average)"
     ],
     "language": "python",
     "metadata": {},
     "outputs": [],
     "prompt_number": 84
    },
    {
     "cell_type": "code",
     "collapsed": false,
     "input": [
      "meshy = meshy.drop('Time', axis = 1)\n",
      "meshn = meshn.drop('Time', axis = 1)"
     ],
     "language": "python",
     "metadata": {},
     "outputs": [
      {
       "ename": "ValueError",
       "evalue": "labels ['Time'] not contained in axis",
       "output_type": "pyerr",
       "traceback": [
        "\u001b[1;31m---------------------------------------------------------------------------\u001b[0m\n\u001b[1;31mValueError\u001b[0m                                Traceback (most recent call last)",
        "\u001b[1;32m<ipython-input-89-02aae8729da3>\u001b[0m in \u001b[0;36m<module>\u001b[1;34m()\u001b[0m\n\u001b[1;32m----> 1\u001b[1;33m \u001b[0mmeshy\u001b[0m \u001b[1;33m=\u001b[0m \u001b[0mmeshy\u001b[0m\u001b[1;33m.\u001b[0m\u001b[0mdrop\u001b[0m\u001b[1;33m(\u001b[0m\u001b[1;34m'Time'\u001b[0m\u001b[1;33m,\u001b[0m \u001b[0maxis\u001b[0m \u001b[1;33m=\u001b[0m \u001b[1;36m1\u001b[0m\u001b[1;33m)\u001b[0m\u001b[1;33m\u001b[0m\u001b[0m\n\u001b[0m\u001b[0;32m      2\u001b[0m \u001b[0mmeshn\u001b[0m \u001b[1;33m=\u001b[0m \u001b[0mmeshn\u001b[0m\u001b[1;33m.\u001b[0m\u001b[0mdrop\u001b[0m\u001b[1;33m(\u001b[0m\u001b[1;34m'Time'\u001b[0m\u001b[1;33m,\u001b[0m \u001b[0maxis\u001b[0m \u001b[1;33m=\u001b[0m \u001b[1;36m1\u001b[0m\u001b[1;33m)\u001b[0m\u001b[1;33m\u001b[0m\u001b[0m\n",
        "\u001b[1;32m/home/bonobo/.virtualenvs/pandas/local/lib/python2.7/site-packages/pandas/core/generic.pyc\u001b[0m in \u001b[0;36mdrop\u001b[1;34m(self, labels, axis, level, inplace, **kwargs)\u001b[0m\n\u001b[0;32m   1462\u001b[0m                 \u001b[0mnew_axis\u001b[0m \u001b[1;33m=\u001b[0m \u001b[0maxis\u001b[0m\u001b[1;33m.\u001b[0m\u001b[0mdrop\u001b[0m\u001b[1;33m(\u001b[0m\u001b[0mlabels\u001b[0m\u001b[1;33m,\u001b[0m \u001b[0mlevel\u001b[0m\u001b[1;33m=\u001b[0m\u001b[0mlevel\u001b[0m\u001b[1;33m)\u001b[0m\u001b[1;33m\u001b[0m\u001b[0m\n\u001b[0;32m   1463\u001b[0m             \u001b[1;32melse\u001b[0m\u001b[1;33m:\u001b[0m\u001b[1;33m\u001b[0m\u001b[0m\n\u001b[1;32m-> 1464\u001b[1;33m                 \u001b[0mnew_axis\u001b[0m \u001b[1;33m=\u001b[0m \u001b[0maxis\u001b[0m\u001b[1;33m.\u001b[0m\u001b[0mdrop\u001b[0m\u001b[1;33m(\u001b[0m\u001b[0mlabels\u001b[0m\u001b[1;33m)\u001b[0m\u001b[1;33m\u001b[0m\u001b[0m\n\u001b[0m\u001b[0;32m   1465\u001b[0m             \u001b[0mdropped\u001b[0m \u001b[1;33m=\u001b[0m \u001b[0mself\u001b[0m\u001b[1;33m.\u001b[0m\u001b[0mreindex\u001b[0m\u001b[1;33m(\u001b[0m\u001b[1;33m**\u001b[0m\u001b[1;33m{\u001b[0m\u001b[0maxis_name\u001b[0m\u001b[1;33m:\u001b[0m \u001b[0mnew_axis\u001b[0m\u001b[1;33m}\u001b[0m\u001b[1;33m)\u001b[0m\u001b[1;33m\u001b[0m\u001b[0m\n\u001b[0;32m   1466\u001b[0m             \u001b[1;32mtry\u001b[0m\u001b[1;33m:\u001b[0m\u001b[1;33m\u001b[0m\u001b[0m\n",
        "\u001b[1;32m/home/bonobo/.virtualenvs/pandas/local/lib/python2.7/site-packages/pandas/core/index.pyc\u001b[0m in \u001b[0;36mdrop\u001b[1;34m(self, labels)\u001b[0m\n\u001b[0;32m   1829\u001b[0m         \u001b[0mmask\u001b[0m \u001b[1;33m=\u001b[0m \u001b[0mindexer\u001b[0m \u001b[1;33m==\u001b[0m \u001b[1;33m-\u001b[0m\u001b[1;36m1\u001b[0m\u001b[1;33m\u001b[0m\u001b[0m\n\u001b[0;32m   1830\u001b[0m         \u001b[1;32mif\u001b[0m \u001b[0mmask\u001b[0m\u001b[1;33m.\u001b[0m\u001b[0many\u001b[0m\u001b[1;33m(\u001b[0m\u001b[1;33m)\u001b[0m\u001b[1;33m:\u001b[0m\u001b[1;33m\u001b[0m\u001b[0m\n\u001b[1;32m-> 1831\u001b[1;33m             \u001b[1;32mraise\u001b[0m \u001b[0mValueError\u001b[0m\u001b[1;33m(\u001b[0m\u001b[1;34m'labels %s not contained in axis'\u001b[0m \u001b[1;33m%\u001b[0m \u001b[0mlabels\u001b[0m\u001b[1;33m[\u001b[0m\u001b[0mmask\u001b[0m\u001b[1;33m]\u001b[0m\u001b[1;33m)\u001b[0m\u001b[1;33m\u001b[0m\u001b[0m\n\u001b[0m\u001b[0;32m   1832\u001b[0m         \u001b[1;32mreturn\u001b[0m \u001b[0mself\u001b[0m\u001b[1;33m.\u001b[0m\u001b[0mdelete\u001b[0m\u001b[1;33m(\u001b[0m\u001b[0mindexer\u001b[0m\u001b[1;33m)\u001b[0m\u001b[1;33m\u001b[0m\u001b[0m\n\u001b[0;32m   1833\u001b[0m \u001b[1;33m\u001b[0m\u001b[0m\n",
        "\u001b[1;31mValueError\u001b[0m: labels ['Time'] not contained in axis"
       ]
      }
     ],
     "prompt_number": 89
    },
    {
     "cell_type": "code",
     "collapsed": false,
     "input": [
      "meshn"
     ],
     "language": "python",
     "metadata": {},
     "outputs": [
      {
       "html": [
        "<div style=\"max-height:1000px;max-width:1500px;overflow:auto;\">\n",
        "<table border=\"1\" class=\"dataframe\">\n",
        "  <thead>\n",
        "    <tr style=\"text-align: right;\">\n",
        "      <th></th>\n",
        "      <th>EMH</th>\n",
        "      <th>SEMH</th>\n",
        "      <th>LEMH</th>\n",
        "      <th>NonAM</th>\n",
        "    </tr>\n",
        "    <tr>\n",
        "      <th>Site</th>\n",
        "      <th></th>\n",
        "      <th></th>\n",
        "      <th></th>\n",
        "      <th></th>\n",
        "    </tr>\n",
        "  </thead>\n",
        "  <tbody>\n",
        "    <tr>\n",
        "      <th>GL0</th>\n",
        "      <td> 0.739856</td>\n",
        "      <td> 0.410607</td>\n",
        "      <td> 0.329249</td>\n",
        "      <td> 0.342413</td>\n",
        "    </tr>\n",
        "    <tr>\n",
        "      <th>GL1</th>\n",
        "      <td> 1.806638</td>\n",
        "      <td> 1.193623</td>\n",
        "      <td> 0.613015</td>\n",
        "      <td> 0.661956</td>\n",
        "    </tr>\n",
        "    <tr>\n",
        "      <th>GL2</th>\n",
        "      <td> 1.957909</td>\n",
        "      <td> 1.409655</td>\n",
        "      <td> 0.565077</td>\n",
        "      <td> 0.839120</td>\n",
        "    </tr>\n",
        "    <tr>\n",
        "      <th>GL3</th>\n",
        "      <td> 1.778625</td>\n",
        "      <td> 1.293663</td>\n",
        "      <td> 0.484962</td>\n",
        "      <td> 0.427727</td>\n",
        "    </tr>\n",
        "    <tr>\n",
        "      <th>GL4</th>\n",
        "      <td> 0.416255</td>\n",
        "      <td> 0.310496</td>\n",
        "      <td> 0.105759</td>\n",
        "      <td> 0.409165</td>\n",
        "    </tr>\n",
        "    <tr>\n",
        "      <th>PJ0</th>\n",
        "      <td> 1.247304</td>\n",
        "      <td> 0.750245</td>\n",
        "      <td> 0.497059</td>\n",
        "      <td> 0.778688</td>\n",
        "    </tr>\n",
        "    <tr>\n",
        "      <th>PJ1</th>\n",
        "      <td> 1.249905</td>\n",
        "      <td> 0.854177</td>\n",
        "      <td> 0.395728</td>\n",
        "      <td> 1.219062</td>\n",
        "    </tr>\n",
        "    <tr>\n",
        "      <th>PJ2</th>\n",
        "      <td> 3.743948</td>\n",
        "      <td> 2.685291</td>\n",
        "      <td> 1.058657</td>\n",
        "      <td> 1.131521</td>\n",
        "    </tr>\n",
        "    <tr>\n",
        "      <th>PJ3</th>\n",
        "      <td> 1.297391</td>\n",
        "      <td> 0.850705</td>\n",
        "      <td> 0.446686</td>\n",
        "      <td> 0.750034</td>\n",
        "    </tr>\n",
        "    <tr>\n",
        "      <th>PJ4</th>\n",
        "      <td> 1.540871</td>\n",
        "      <td> 1.174980</td>\n",
        "      <td> 0.365892</td>\n",
        "      <td> 0.737511</td>\n",
        "    </tr>\n",
        "    <tr>\n",
        "      <th>PP0</th>\n",
        "      <td> 4.595257</td>\n",
        "      <td> 3.074218</td>\n",
        "      <td> 1.521039</td>\n",
        "      <td> 2.527792</td>\n",
        "    </tr>\n",
        "    <tr>\n",
        "      <th>PP1</th>\n",
        "      <td> 2.599399</td>\n",
        "      <td> 1.768869</td>\n",
        "      <td> 0.830530</td>\n",
        "      <td> 0.512191</td>\n",
        "    </tr>\n",
        "    <tr>\n",
        "      <th>PP2</th>\n",
        "      <td> 5.950154</td>\n",
        "      <td> 4.084099</td>\n",
        "      <td> 1.866055</td>\n",
        "      <td> 2.068736</td>\n",
        "    </tr>\n",
        "    <tr>\n",
        "      <th>PP3</th>\n",
        "      <td> 2.319062</td>\n",
        "      <td> 1.416865</td>\n",
        "      <td> 0.902197</td>\n",
        "      <td> 0.775553</td>\n",
        "    </tr>\n",
        "    <tr>\n",
        "      <th>PP4</th>\n",
        "      <td> 2.419027</td>\n",
        "      <td> 1.718223</td>\n",
        "      <td> 0.700804</td>\n",
        "      <td> 0.590246</td>\n",
        "    </tr>\n",
        "  </tbody>\n",
        "</table>\n",
        "</div>"
       ],
       "metadata": {},
       "output_type": "pyout",
       "prompt_number": 105,
       "text": [
        "           EMH      SEMH      LEMH     NonAM\n",
        "Site                                        \n",
        "GL0   0.739856  0.410607  0.329249  0.342413\n",
        "GL1   1.806638  1.193623  0.613015  0.661956\n",
        "GL2   1.957909  1.409655  0.565077  0.839120\n",
        "GL3   1.778625  1.293663  0.484962  0.427727\n",
        "GL4   0.416255  0.310496  0.105759  0.409165\n",
        "PJ0   1.247304  0.750245  0.497059  0.778688\n",
        "PJ1   1.249905  0.854177  0.395728  1.219062\n",
        "PJ2   3.743948  2.685291  1.058657  1.131521\n",
        "PJ3   1.297391  0.850705  0.446686  0.750034\n",
        "PJ4   1.540871  1.174980  0.365892  0.737511\n",
        "PP0   4.595257  3.074218  1.521039  2.527792\n",
        "PP1   2.599399  1.768869  0.830530  0.512191\n",
        "PP2   5.950154  4.084099  1.866055  2.068736\n",
        "PP3   2.319062  1.416865  0.902197  0.775553\n",
        "PP4   2.419027  1.718223  0.700804  0.590246"
       ]
      }
     ],
     "prompt_number": 105
    },
    {
     "cell_type": "code",
     "collapsed": false,
     "input": [
      "meshy.columns = ['EMH_m', 'SEMH_m','LEMH_m','NonAM_m']"
     ],
     "language": "python",
     "metadata": {},
     "outputs": [],
     "prompt_number": 92
    },
    {
     "cell_type": "code",
     "collapsed": false,
     "input": [
      "plfa= pd.read_csv('PLFA_totals.csv')"
     ],
     "language": "python",
     "metadata": {},
     "outputs": [],
     "prompt_number": 115
    },
    {
     "cell_type": "code",
     "collapsed": false,
     "input": [
      "plfa2 = plfa.groupby('Site').aggregate(np.average)"
     ],
     "language": "python",
     "metadata": {},
     "outputs": [],
     "prompt_number": 116
    },
    {
     "cell_type": "code",
     "collapsed": false,
     "input": [
      "final = pd.DataFrame()\n",
      "final = final.join([meshy, meshn, plfa2], how = 'outer')"
     ],
     "language": "python",
     "metadata": {},
     "outputs": [],
     "prompt_number": 117
    },
    {
     "cell_type": "code",
     "collapsed": false,
     "input": [
      "final.to_csv('EMH_plfa_out.csv')"
     ],
     "language": "python",
     "metadata": {},
     "outputs": [],
     "prompt_number": 118
    }
   ],
   "metadata": {}
  }
 ]
}