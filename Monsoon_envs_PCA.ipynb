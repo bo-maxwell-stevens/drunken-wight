{
 "metadata": {
  "name": "",
  "signature": "sha256:19bdd91244bf68fd49d9eef9f15c321320c3d62ae81b7a56a0e87bf4cda702b9"
 },
 "nbformat": 3,
 "nbformat_minor": 0,
 "worksheets": [
  {
   "cells": [
    {
     "cell_type": "code",
     "collapsed": false,
     "input": [
      "import pandas as pd\n",
      "import numpy as np\n",
      "import matplotlib.pyplot as plt\n",
      "import matplotlib as mpl\n",
      "from scipy import stats\n",
      "import math\n",
      "import operator\n",
      "from __future__ import division\n",
      "from matplotlib.mlab import PCA as mlabPCA"
     ],
     "language": "python",
     "metadata": {},
     "outputs": [],
     "prompt_number": 1
    },
    {
     "cell_type": "code",
     "collapsed": false,
     "input": [
      "final_df = pd.read_csv(\"full_envars.csv\", index_col = 0)"
     ],
     "language": "python",
     "metadata": {},
     "outputs": [],
     "prompt_number": 2
    },
    {
     "cell_type": "code",
     "collapsed": false,
     "input": [
      "final_df.columns.values"
     ],
     "language": "python",
     "metadata": {},
     "outputs": [
      {
       "metadata": {},
       "output_type": "pyout",
       "prompt_number": 4,
       "text": [
        "array(['Time', 'Bray_Div', 'Bray_Div_0', 'Jac_Div', 'Jac_Div_0',\n",
        "       'Observed_Species', 'Soil_M', 'Root/Shoot', 'SolarMax_1',\n",
        "       'SolarMax_3', 'SolarMax_30', 'SolarMax_7', 'AirTempMax_1',\n",
        "       'AirTempMax_3', 'AirTempMax_30', 'AirTempMax_7', 'AirTempMin_1',\n",
        "       'AirTempMin_3', 'AirTempMin_30', 'AirTempMin_7', 'AirTemp_1',\n",
        "       'AirTemp_3', 'AirTemp_30', 'AirTemp_7', 'Evapo_1', 'Evapo_3',\n",
        "       'Evapo_30', 'Evapo_7', 'Precip_1', 'Precip_3', 'Precip_30',\n",
        "       'Precip_7', 'SWC_1', 'SWC_3', 'SWC_30', 'SWC_7', 'Stemp_1',\n",
        "       'Stemp_3', 'Stemp_30', 'Stemp_7', 'EMH_m', 'SEMH_m', 'LEMH_m',\n",
        "       'NonAM_m', 'EMH', 'SEMH', 'LEMH', 'NonAM'], dtype=object)"
       ]
      }
     ],
     "prompt_number": 4
    },
    {
     "cell_type": "code",
     "collapsed": false,
     "input": [
      "pca_df = final_df[['SolarMax_7', 'AirTempMax_7', 'Evapo_7', 'SWC_7']]"
     ],
     "language": "python",
     "metadata": {},
     "outputs": [],
     "prompt_number": 101
    },
    {
     "cell_type": "code",
     "collapsed": false,
     "input": [
      "pca_df"
     ],
     "language": "python",
     "metadata": {},
     "outputs": [
      {
       "html": [
        "<div style=\"max-height:1000px;max-width:1500px;overflow:auto;\">\n",
        "<table border=\"1\" class=\"dataframe\">\n",
        "  <thead>\n",
        "    <tr style=\"text-align: right;\">\n",
        "      <th></th>\n",
        "      <th>SolarMax_7</th>\n",
        "      <th>AirTempMax_7</th>\n",
        "      <th>Evapo_7</th>\n",
        "      <th>SWC_7</th>\n",
        "    </tr>\n",
        "  </thead>\n",
        "  <tbody>\n",
        "    <tr>\n",
        "      <th>GL0</th>\n",
        "      <td> 1.016143</td>\n",
        "      <td> 18.954286</td>\n",
        "      <td> 0.272089</td>\n",
        "      <td> 0.131863</td>\n",
        "    </tr>\n",
        "    <tr>\n",
        "      <th>GL1</th>\n",
        "      <td> 1.107571</td>\n",
        "      <td> 34.125714</td>\n",
        "      <td> 0.487274</td>\n",
        "      <td> 0.070524</td>\n",
        "    </tr>\n",
        "    <tr>\n",
        "      <th>GL2</th>\n",
        "      <td> 0.891857</td>\n",
        "      <td> 29.398571</td>\n",
        "      <td> 0.248738</td>\n",
        "      <td> 0.150060</td>\n",
        "    </tr>\n",
        "    <tr>\n",
        "      <th>GL3</th>\n",
        "      <td> 0.859286</td>\n",
        "      <td> 26.171429</td>\n",
        "      <td> 0.189696</td>\n",
        "      <td> 0.112833</td>\n",
        "    </tr>\n",
        "    <tr>\n",
        "      <th>GL4</th>\n",
        "      <td> 0.750714</td>\n",
        "      <td> 22.860000</td>\n",
        "      <td> 0.188744</td>\n",
        "      <td> 0.105417</td>\n",
        "    </tr>\n",
        "    <tr>\n",
        "      <th>PJ0</th>\n",
        "      <td> 1.026143</td>\n",
        "      <td> 16.734286</td>\n",
        "      <td> 0.224577</td>\n",
        "      <td> 0.137298</td>\n",
        "    </tr>\n",
        "    <tr>\n",
        "      <th>PJ1</th>\n",
        "      <td> 1.089429</td>\n",
        "      <td> 31.898571</td>\n",
        "      <td> 0.386143</td>\n",
        "      <td> 0.088786</td>\n",
        "    </tr>\n",
        "    <tr>\n",
        "      <th>PJ2</th>\n",
        "      <td> 0.899143</td>\n",
        "      <td> 27.408571</td>\n",
        "      <td> 0.189065</td>\n",
        "      <td> 0.178208</td>\n",
        "    </tr>\n",
        "    <tr>\n",
        "      <th>PJ3</th>\n",
        "      <td> 0.775857</td>\n",
        "      <td> 24.537143</td>\n",
        "      <td> 0.151524</td>\n",
        "      <td> 0.112048</td>\n",
        "    </tr>\n",
        "    <tr>\n",
        "      <th>PJ4</th>\n",
        "      <td> 0.743571</td>\n",
        "      <td> 21.942857</td>\n",
        "      <td> 0.151798</td>\n",
        "      <td> 0.138589</td>\n",
        "    </tr>\n",
        "    <tr>\n",
        "      <th>PP0</th>\n",
        "      <td> 0.962429</td>\n",
        "      <td> 13.050714</td>\n",
        "      <td> 0.184268</td>\n",
        "      <td> 0.169089</td>\n",
        "    </tr>\n",
        "    <tr>\n",
        "      <th>PP1</th>\n",
        "      <td> 1.119857</td>\n",
        "      <td> 27.975714</td>\n",
        "      <td> 0.363357</td>\n",
        "      <td> 0.079756</td>\n",
        "    </tr>\n",
        "    <tr>\n",
        "      <th>PP2</th>\n",
        "      <td> 0.853571</td>\n",
        "      <td> 24.220000</td>\n",
        "      <td> 0.161673</td>\n",
        "      <td> 0.150625</td>\n",
        "    </tr>\n",
        "    <tr>\n",
        "      <th>PP3</th>\n",
        "      <td> 0.796571</td>\n",
        "      <td> 21.470000</td>\n",
        "      <td> 0.134024</td>\n",
        "      <td> 0.086292</td>\n",
        "    </tr>\n",
        "    <tr>\n",
        "      <th>PP4</th>\n",
        "      <td> 0.796571</td>\n",
        "      <td> 19.518571</td>\n",
        "      <td> 0.154768</td>\n",
        "      <td> 0.145774</td>\n",
        "    </tr>\n",
        "  </tbody>\n",
        "</table>\n",
        "</div>"
       ],
       "metadata": {},
       "output_type": "pyout",
       "prompt_number": 102,
       "text": [
        "     SolarMax_7  AirTempMax_7   Evapo_7     SWC_7\n",
        "GL0    1.016143     18.954286  0.272089  0.131863\n",
        "GL1    1.107571     34.125714  0.487274  0.070524\n",
        "GL2    0.891857     29.398571  0.248738  0.150060\n",
        "GL3    0.859286     26.171429  0.189696  0.112833\n",
        "GL4    0.750714     22.860000  0.188744  0.105417\n",
        "PJ0    1.026143     16.734286  0.224577  0.137298\n",
        "PJ1    1.089429     31.898571  0.386143  0.088786\n",
        "PJ2    0.899143     27.408571  0.189065  0.178208\n",
        "PJ3    0.775857     24.537143  0.151524  0.112048\n",
        "PJ4    0.743571     21.942857  0.151798  0.138589\n",
        "PP0    0.962429     13.050714  0.184268  0.169089\n",
        "PP1    1.119857     27.975714  0.363357  0.079756\n",
        "PP2    0.853571     24.220000  0.161673  0.150625\n",
        "PP3    0.796571     21.470000  0.134024  0.086292\n",
        "PP4    0.796571     19.518571  0.154768  0.145774"
       ]
      }
     ],
     "prompt_number": 102
    },
    {
     "cell_type": "code",
     "collapsed": false,
     "input": [
      "mlab_pca = mlabPCA(pca_df,standardize=True)"
     ],
     "language": "python",
     "metadata": {},
     "outputs": [],
     "prompt_number": 103
    },
    {
     "cell_type": "code",
     "collapsed": false,
     "input": [
      "%matplotlib inline"
     ],
     "language": "python",
     "metadata": {},
     "outputs": [],
     "prompt_number": 104
    },
    {
     "cell_type": "code",
     "collapsed": false,
     "input": [
      "Y_val = -3.71290638*,  0.15904546, -0.10742194, -0.38295344"
     ],
     "language": "python",
     "metadata": {},
     "outputs": [
      {
       "metadata": {},
       "output_type": "pyout",
       "prompt_number": 118,
       "text": [
        "array([-3.71290638,  0.15904546, -0.10742194, -0.38295344])"
       ]
      }
     ],
     "prompt_number": 118
    },
    {
     "cell_type": "code",
     "collapsed": false,
     "input": [
      "mlab_pca.Y[1]"
     ],
     "language": "python",
     "metadata": {},
     "outputs": []
    },
    {
     "cell_type": "code",
     "collapsed": false,
     "input": [
      "plt.plot(mlab_pca.Y[1],final_df['EMH'], 'o', markersize=7,\\\n",
      "        color='blue', alpha=0.5)\n",
      "\n",
      "plt.xlabel('PCA 1')\n",
      "plt.ylabel('EMH_m')\n",
      "plt.xlim([-4,4])\n",
      "plt.ylim([-4,4])\n",
      "plt.title('Transformed samples with class labels from matplotlib.mlab.PCA()')"
     ],
     "language": "python",
     "metadata": {},
     "outputs": [
      {
       "ename": "ValueError",
       "evalue": "x and y must have same first dimension",
       "output_type": "pyerr",
       "traceback": [
        "\u001b[1;31m---------------------------------------------------------------------------\u001b[0m\n\u001b[1;31mValueError\u001b[0m                                Traceback (most recent call last)",
        "\u001b[1;32m<ipython-input-119-3290b3ccbc68>\u001b[0m in \u001b[0;36m<module>\u001b[1;34m()\u001b[0m\n\u001b[1;32m----> 1\u001b[1;33m \u001b[0mplt\u001b[0m\u001b[1;33m.\u001b[0m\u001b[0mplot\u001b[0m\u001b[1;33m(\u001b[0m\u001b[0mmlab_pca\u001b[0m\u001b[1;33m.\u001b[0m\u001b[0mY\u001b[0m\u001b[1;33m[\u001b[0m\u001b[1;36m1\u001b[0m\u001b[1;33m]\u001b[0m\u001b[1;33m,\u001b[0m\u001b[0mfinal_df\u001b[0m\u001b[1;33m[\u001b[0m\u001b[1;34m'EMH'\u001b[0m\u001b[1;33m]\u001b[0m\u001b[1;33m,\u001b[0m \u001b[1;34m'o'\u001b[0m\u001b[1;33m,\u001b[0m \u001b[0mmarkersize\u001b[0m\u001b[1;33m=\u001b[0m\u001b[1;36m7\u001b[0m\u001b[1;33m,\u001b[0m        \u001b[0mcolor\u001b[0m\u001b[1;33m=\u001b[0m\u001b[1;34m'blue'\u001b[0m\u001b[1;33m,\u001b[0m \u001b[0malpha\u001b[0m\u001b[1;33m=\u001b[0m\u001b[1;36m0.5\u001b[0m\u001b[1;33m)\u001b[0m\u001b[1;33m\u001b[0m\u001b[0m\n\u001b[0m\u001b[0;32m      2\u001b[0m \u001b[1;33m\u001b[0m\u001b[0m\n\u001b[0;32m      3\u001b[0m \u001b[0mplt\u001b[0m\u001b[1;33m.\u001b[0m\u001b[0mxlabel\u001b[0m\u001b[1;33m(\u001b[0m\u001b[1;34m'PCA 1'\u001b[0m\u001b[1;33m)\u001b[0m\u001b[1;33m\u001b[0m\u001b[0m\n\u001b[0;32m      4\u001b[0m \u001b[0mplt\u001b[0m\u001b[1;33m.\u001b[0m\u001b[0mylabel\u001b[0m\u001b[1;33m(\u001b[0m\u001b[1;34m'EMH_m'\u001b[0m\u001b[1;33m)\u001b[0m\u001b[1;33m\u001b[0m\u001b[0m\n\u001b[0;32m      5\u001b[0m \u001b[0mplt\u001b[0m\u001b[1;33m.\u001b[0m\u001b[0mxlim\u001b[0m\u001b[1;33m(\u001b[0m\u001b[1;33m[\u001b[0m\u001b[1;33m-\u001b[0m\u001b[1;36m4\u001b[0m\u001b[1;33m,\u001b[0m\u001b[1;36m4\u001b[0m\u001b[1;33m]\u001b[0m\u001b[1;33m)\u001b[0m\u001b[1;33m\u001b[0m\u001b[0m\n",
        "\u001b[1;32m/home/bonobo/.virtualenvs/python/local/lib/python2.7/site-packages/matplotlib/pyplot.pyc\u001b[0m in \u001b[0;36mplot\u001b[1;34m(*args, **kwargs)\u001b[0m\n\u001b[0;32m   3097\u001b[0m         \u001b[0max\u001b[0m\u001b[1;33m.\u001b[0m\u001b[0mhold\u001b[0m\u001b[1;33m(\u001b[0m\u001b[0mhold\u001b[0m\u001b[1;33m)\u001b[0m\u001b[1;33m\u001b[0m\u001b[0m\n\u001b[0;32m   3098\u001b[0m     \u001b[1;32mtry\u001b[0m\u001b[1;33m:\u001b[0m\u001b[1;33m\u001b[0m\u001b[0m\n\u001b[1;32m-> 3099\u001b[1;33m         \u001b[0mret\u001b[0m \u001b[1;33m=\u001b[0m \u001b[0max\u001b[0m\u001b[1;33m.\u001b[0m\u001b[0mplot\u001b[0m\u001b[1;33m(\u001b[0m\u001b[1;33m*\u001b[0m\u001b[0margs\u001b[0m\u001b[1;33m,\u001b[0m \u001b[1;33m**\u001b[0m\u001b[0mkwargs\u001b[0m\u001b[1;33m)\u001b[0m\u001b[1;33m\u001b[0m\u001b[0m\n\u001b[0m\u001b[0;32m   3100\u001b[0m         \u001b[0mdraw_if_interactive\u001b[0m\u001b[1;33m(\u001b[0m\u001b[1;33m)\u001b[0m\u001b[1;33m\u001b[0m\u001b[0m\n\u001b[0;32m   3101\u001b[0m     \u001b[1;32mfinally\u001b[0m\u001b[1;33m:\u001b[0m\u001b[1;33m\u001b[0m\u001b[0m\n",
        "\u001b[1;32m/home/bonobo/.virtualenvs/python/local/lib/python2.7/site-packages/matplotlib/axes/_axes.pyc\u001b[0m in \u001b[0;36mplot\u001b[1;34m(self, *args, **kwargs)\u001b[0m\n\u001b[0;32m   1372\u001b[0m         \u001b[0mlines\u001b[0m \u001b[1;33m=\u001b[0m \u001b[1;33m[\u001b[0m\u001b[1;33m]\u001b[0m\u001b[1;33m\u001b[0m\u001b[0m\n\u001b[0;32m   1373\u001b[0m \u001b[1;33m\u001b[0m\u001b[0m\n\u001b[1;32m-> 1374\u001b[1;33m         \u001b[1;32mfor\u001b[0m \u001b[0mline\u001b[0m \u001b[1;32min\u001b[0m \u001b[0mself\u001b[0m\u001b[1;33m.\u001b[0m\u001b[0m_get_lines\u001b[0m\u001b[1;33m(\u001b[0m\u001b[1;33m*\u001b[0m\u001b[0margs\u001b[0m\u001b[1;33m,\u001b[0m \u001b[1;33m**\u001b[0m\u001b[0mkwargs\u001b[0m\u001b[1;33m)\u001b[0m\u001b[1;33m:\u001b[0m\u001b[1;33m\u001b[0m\u001b[0m\n\u001b[0m\u001b[0;32m   1375\u001b[0m             \u001b[0mself\u001b[0m\u001b[1;33m.\u001b[0m\u001b[0madd_line\u001b[0m\u001b[1;33m(\u001b[0m\u001b[0mline\u001b[0m\u001b[1;33m)\u001b[0m\u001b[1;33m\u001b[0m\u001b[0m\n\u001b[0;32m   1376\u001b[0m             \u001b[0mlines\u001b[0m\u001b[1;33m.\u001b[0m\u001b[0mappend\u001b[0m\u001b[1;33m(\u001b[0m\u001b[0mline\u001b[0m\u001b[1;33m)\u001b[0m\u001b[1;33m\u001b[0m\u001b[0m\n",
        "\u001b[1;32m/home/bonobo/.virtualenvs/python/local/lib/python2.7/site-packages/matplotlib/axes/_base.pyc\u001b[0m in \u001b[0;36m_grab_next_args\u001b[1;34m(self, *args, **kwargs)\u001b[0m\n\u001b[0;32m    301\u001b[0m                 \u001b[1;32mreturn\u001b[0m\u001b[1;33m\u001b[0m\u001b[0m\n\u001b[0;32m    302\u001b[0m             \u001b[1;32mif\u001b[0m \u001b[0mlen\u001b[0m\u001b[1;33m(\u001b[0m\u001b[0mremaining\u001b[0m\u001b[1;33m)\u001b[0m \u001b[1;33m<=\u001b[0m \u001b[1;36m3\u001b[0m\u001b[1;33m:\u001b[0m\u001b[1;33m\u001b[0m\u001b[0m\n\u001b[1;32m--> 303\u001b[1;33m                 \u001b[1;32mfor\u001b[0m \u001b[0mseg\u001b[0m \u001b[1;32min\u001b[0m \u001b[0mself\u001b[0m\u001b[1;33m.\u001b[0m\u001b[0m_plot_args\u001b[0m\u001b[1;33m(\u001b[0m\u001b[0mremaining\u001b[0m\u001b[1;33m,\u001b[0m \u001b[0mkwargs\u001b[0m\u001b[1;33m)\u001b[0m\u001b[1;33m:\u001b[0m\u001b[1;33m\u001b[0m\u001b[0m\n\u001b[0m\u001b[0;32m    304\u001b[0m                     \u001b[1;32myield\u001b[0m \u001b[0mseg\u001b[0m\u001b[1;33m\u001b[0m\u001b[0m\n\u001b[0;32m    305\u001b[0m                 \u001b[1;32mreturn\u001b[0m\u001b[1;33m\u001b[0m\u001b[0m\n",
        "\u001b[1;32m/home/bonobo/.virtualenvs/python/local/lib/python2.7/site-packages/matplotlib/axes/_base.pyc\u001b[0m in \u001b[0;36m_plot_args\u001b[1;34m(self, tup, kwargs)\u001b[0m\n\u001b[0;32m    279\u001b[0m             \u001b[0mx\u001b[0m \u001b[1;33m=\u001b[0m \u001b[0mnp\u001b[0m\u001b[1;33m.\u001b[0m\u001b[0marange\u001b[0m\u001b[1;33m(\u001b[0m\u001b[0my\u001b[0m\u001b[1;33m.\u001b[0m\u001b[0mshape\u001b[0m\u001b[1;33m[\u001b[0m\u001b[1;36m0\u001b[0m\u001b[1;33m]\u001b[0m\u001b[1;33m,\u001b[0m \u001b[0mdtype\u001b[0m\u001b[1;33m=\u001b[0m\u001b[0mfloat\u001b[0m\u001b[1;33m)\u001b[0m\u001b[1;33m\u001b[0m\u001b[0m\n\u001b[0;32m    280\u001b[0m \u001b[1;33m\u001b[0m\u001b[0m\n\u001b[1;32m--> 281\u001b[1;33m         \u001b[0mx\u001b[0m\u001b[1;33m,\u001b[0m \u001b[0my\u001b[0m \u001b[1;33m=\u001b[0m \u001b[0mself\u001b[0m\u001b[1;33m.\u001b[0m\u001b[0m_xy_from_xy\u001b[0m\u001b[1;33m(\u001b[0m\u001b[0mx\u001b[0m\u001b[1;33m,\u001b[0m \u001b[0my\u001b[0m\u001b[1;33m)\u001b[0m\u001b[1;33m\u001b[0m\u001b[0m\n\u001b[0m\u001b[0;32m    282\u001b[0m \u001b[1;33m\u001b[0m\u001b[0m\n\u001b[0;32m    283\u001b[0m         \u001b[1;32mif\u001b[0m \u001b[0mself\u001b[0m\u001b[1;33m.\u001b[0m\u001b[0mcommand\u001b[0m \u001b[1;33m==\u001b[0m \u001b[1;34m'plot'\u001b[0m\u001b[1;33m:\u001b[0m\u001b[1;33m\u001b[0m\u001b[0m\n",
        "\u001b[1;32m/home/bonobo/.virtualenvs/python/local/lib/python2.7/site-packages/matplotlib/axes/_base.pyc\u001b[0m in \u001b[0;36m_xy_from_xy\u001b[1;34m(self, x, y)\u001b[0m\n\u001b[0;32m    221\u001b[0m         \u001b[0my\u001b[0m \u001b[1;33m=\u001b[0m \u001b[0mnp\u001b[0m\u001b[1;33m.\u001b[0m\u001b[0matleast_1d\u001b[0m\u001b[1;33m(\u001b[0m\u001b[0my\u001b[0m\u001b[1;33m)\u001b[0m\u001b[1;33m\u001b[0m\u001b[0m\n\u001b[0;32m    222\u001b[0m         \u001b[1;32mif\u001b[0m \u001b[0mx\u001b[0m\u001b[1;33m.\u001b[0m\u001b[0mshape\u001b[0m\u001b[1;33m[\u001b[0m\u001b[1;36m0\u001b[0m\u001b[1;33m]\u001b[0m \u001b[1;33m!=\u001b[0m \u001b[0my\u001b[0m\u001b[1;33m.\u001b[0m\u001b[0mshape\u001b[0m\u001b[1;33m[\u001b[0m\u001b[1;36m0\u001b[0m\u001b[1;33m]\u001b[0m\u001b[1;33m:\u001b[0m\u001b[1;33m\u001b[0m\u001b[0m\n\u001b[1;32m--> 223\u001b[1;33m             \u001b[1;32mraise\u001b[0m \u001b[0mValueError\u001b[0m\u001b[1;33m(\u001b[0m\u001b[1;34m\"x and y must have same first dimension\"\u001b[0m\u001b[1;33m)\u001b[0m\u001b[1;33m\u001b[0m\u001b[0m\n\u001b[0m\u001b[0;32m    224\u001b[0m         \u001b[1;32mif\u001b[0m \u001b[0mx\u001b[0m\u001b[1;33m.\u001b[0m\u001b[0mndim\u001b[0m \u001b[1;33m>\u001b[0m \u001b[1;36m2\u001b[0m \u001b[1;32mor\u001b[0m \u001b[0my\u001b[0m\u001b[1;33m.\u001b[0m\u001b[0mndim\u001b[0m \u001b[1;33m>\u001b[0m \u001b[1;36m2\u001b[0m\u001b[1;33m:\u001b[0m\u001b[1;33m\u001b[0m\u001b[0m\n\u001b[0;32m    225\u001b[0m             \u001b[1;32mraise\u001b[0m \u001b[0mValueError\u001b[0m\u001b[1;33m(\u001b[0m\u001b[1;34m\"x and y can be no greater than 2-D\"\u001b[0m\u001b[1;33m)\u001b[0m\u001b[1;33m\u001b[0m\u001b[0m\n",
        "\u001b[1;31mValueError\u001b[0m: x and y must have same first dimension"
       ]
      },
      {
       "metadata": {},
       "output_type": "display_data",
       "png": "[encoded data removed]",
       "text": [
        "<matplotlib.figure.Figure at 0x7f1b0520b150>"
       ]
      }
     ],
     "prompt_number": 119
    },
    {
     "cell_type": "code",
     "collapsed": false,
     "input": [
      "final_df['EMH']"
     ],
     "language": "python",
     "metadata": {},
     "outputs": [
      {
       "metadata": {},
       "output_type": "pyout",
       "prompt_number": 114,
       "text": [
        "GL0    0.739856\n",
        "GL1    1.806638\n",
        "GL2    1.957909\n",
        "GL3    1.778625\n",
        "GL4    0.416255\n",
        "PJ0    1.247304\n",
        "PJ1    1.249905\n",
        "PJ2    3.743948\n",
        "PJ3    1.297391\n",
        "PJ4    1.540871\n",
        "PP0    4.595257\n",
        "PP1    2.599399\n",
        "PP2    5.950154\n",
        "PP3    2.319062\n",
        "PP4    2.419027\n",
        "Name: EMH, dtype: float64"
       ]
      }
     ],
     "prompt_number": 114
    },
    {
     "cell_type": "code",
     "collapsed": false,
     "input": [
      "print('PC axes in terms of the measurement axes'\\\n",
      "        ' scaled by the standard deviations:\\n',\\\n",
      "          mlab_pca.Wt)"
     ],
     "language": "python",
     "metadata": {},
     "outputs": [
      {
       "output_type": "stream",
       "stream": "stdout",
       "text": [
        "('PC axes in terms of the measurement axes scaled by the standard deviations:\\n', array([[-0.48509579, -0.46308301, -0.59292626,  0.44572934],\n",
        "       [-0.66533385,  0.48562149, -0.22590052, -0.52006884],\n",
        "       [ 0.07267649, -0.69268825, -0.05622905, -0.71535964],\n",
        "       [ 0.56278865,  0.26440289, -0.77087333, -0.13825464]]))\n"
       ]
      }
     ],
     "prompt_number": 106
    },
    {
     "cell_type": "code",
     "collapsed": false,
     "input": [
      "print mlab_pca.fracs[0], mlab_pca.fracs[1], mlab_pca.fracs[0] + mlab_pca.fracs[1]"
     ],
     "language": "python",
     "metadata": {},
     "outputs": [
      {
       "output_type": "stream",
       "stream": "stdout",
       "text": [
        "0.658044963458 0.204004316789 0.862049280247\n"
       ]
      }
     ],
     "prompt_number": 107
    },
    {
     "cell_type": "code",
     "collapsed": false,
     "input": [
      "mlabPCA.project(mlab_pca[0], minfrac=0.5)"
     ],
     "language": "python",
     "metadata": {},
     "outputs": [
      {
       "ename": "AttributeError",
       "evalue": "PCA instance has no attribute '__getitem__'",
       "output_type": "pyerr",
       "traceback": [
        "\u001b[1;31m---------------------------------------------------------------------------\u001b[0m\n\u001b[1;31mAttributeError\u001b[0m                            Traceback (most recent call last)",
        "\u001b[1;32m<ipython-input-123-7b1e91349a49>\u001b[0m in \u001b[0;36m<module>\u001b[1;34m()\u001b[0m\n\u001b[1;32m----> 1\u001b[1;33m \u001b[0mmlabPCA\u001b[0m\u001b[1;33m.\u001b[0m\u001b[0mproject\u001b[0m\u001b[1;33m(\u001b[0m\u001b[0mmlab_pca\u001b[0m\u001b[1;33m[\u001b[0m\u001b[1;36m0\u001b[0m\u001b[1;33m]\u001b[0m\u001b[1;33m,\u001b[0m \u001b[0mminfrac\u001b[0m\u001b[1;33m=\u001b[0m\u001b[1;36m0.5\u001b[0m\u001b[1;33m)\u001b[0m\u001b[1;33m\u001b[0m\u001b[0m\n\u001b[0m",
        "\u001b[1;31mAttributeError\u001b[0m: PCA instance has no attribute '__getitem__'"
       ]
      }
     ],
     "prompt_number": 123
    },
    {
     "cell_type": "code",
     "collapsed": false,
     "input": [],
     "language": "python",
     "metadata": {},
     "outputs": []
    }
   ],
   "metadata": {}
  }
 ]
}