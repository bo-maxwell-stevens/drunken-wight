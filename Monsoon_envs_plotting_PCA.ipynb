{
 "metadata": {
  "name": "",
  "signature": "sha256:d0488794cf4c9293c942d12ebcc9ce5ca786609e6723f8aa499b3e43abd888b1"
 },
 "nbformat": 3,
 "nbformat_minor": 0,
 "worksheets": [
  {
   "cells": [
    {
     "cell_type": "code",
     "collapsed": false,
     "input": [
      "import pandas as pd\n",
      "import numpy as np\n",
      "import matplotlib.pyplot as plt\n",
      "import matplotlib as mpl\n",
      "from scipy import stats\n",
      "import math\n",
      "import operator\n",
      "%matplotlib inline\n",
      "from __future__ import division\n",
      "from matplotlib.mlab import PCA as mlabPCA\n",
      "cm = plt.get_cmap('gist_rainbow')"
     ],
     "language": "python",
     "metadata": {},
     "outputs": [],
     "prompt_number": 1
    },
    {
     "cell_type": "code",
     "collapsed": false,
     "input": [
      "final_df = pd.read_csv(\"full_envars.csv\", index_col = 0)"
     ],
     "language": "python",
     "metadata": {},
     "outputs": [],
     "prompt_number": 2
    },
    {
     "cell_type": "code",
     "collapsed": false,
     "input": [
      "final_df[:6]"
     ],
     "language": "python",
     "metadata": {},
     "outputs": [
      {
       "html": [
        "<div style=\"max-height:1000px;max-width:1500px;overflow:auto;\">\n",
        "<table border=\"1\" class=\"dataframe\">\n",
        "  <thead>\n",
        "    <tr style=\"text-align: right;\">\n",
        "      <th></th>\n",
        "      <th>Time</th>\n",
        "      <th>betaSIM</th>\n",
        "      <th>Observed_Species</th>\n",
        "      <th>Shannon</th>\n",
        "      <th>Evenness</th>\n",
        "      <th>SolarMax_1</th>\n",
        "      <th>SolarMax_3</th>\n",
        "      <th>SolarMax_30</th>\n",
        "      <th>SolarMax_7</th>\n",
        "      <th>AirTempMax_1</th>\n",
        "      <th>...</th>\n",
        "      <th>Stemp_30</th>\n",
        "      <th>Stemp_7</th>\n",
        "      <th>EMH_m</th>\n",
        "      <th>SEMH_m</th>\n",
        "      <th>LEMH_m</th>\n",
        "      <th>NonAM_m</th>\n",
        "      <th>EMH</th>\n",
        "      <th>SEMH</th>\n",
        "      <th>LEMH</th>\n",
        "      <th>NonAM</th>\n",
        "    </tr>\n",
        "  </thead>\n",
        "  <tbody>\n",
        "    <tr>\n",
        "      <th>GL0</th>\n",
        "      <td> 0</td>\n",
        "      <td>      NaN</td>\n",
        "      <td>  651</td>\n",
        "      <td> 5.887908</td>\n",
        "      <td> 0.027242</td>\n",
        "      <td> 0.998</td>\n",
        "      <td> 1.052000</td>\n",
        "      <td> 1.052600</td>\n",
        "      <td> 1.016143</td>\n",
        "      <td> 21.81</td>\n",
        "      <td>...</td>\n",
        "      <td> 20.011715</td>\n",
        "      <td> 18.568827</td>\n",
        "      <td>      NaN</td>\n",
        "      <td>      NaN</td>\n",
        "      <td>      NaN</td>\n",
        "      <td>      NaN</td>\n",
        "      <td> 0.739856</td>\n",
        "      <td> 0.410607</td>\n",
        "      <td> 0.329249</td>\n",
        "      <td> 0.342413</td>\n",
        "    </tr>\n",
        "    <tr>\n",
        "      <th>GL1</th>\n",
        "      <td> 1</td>\n",
        "      <td> 0.716487</td>\n",
        "      <td>  649</td>\n",
        "      <td> 6.063710</td>\n",
        "      <td> 0.025553</td>\n",
        "      <td> 1.071</td>\n",
        "      <td> 1.110000</td>\n",
        "      <td> 1.103167</td>\n",
        "      <td> 1.107571</td>\n",
        "      <td> 33.62</td>\n",
        "      <td>...</td>\n",
        "      <td> 30.213333</td>\n",
        "      <td> 33.692321</td>\n",
        "      <td> 0.535295</td>\n",
        "      <td> 0.236936</td>\n",
        "      <td> 0.298359</td>\n",
        "      <td> 0.099382</td>\n",
        "      <td> 1.806638</td>\n",
        "      <td> 1.193623</td>\n",
        "      <td> 0.613015</td>\n",
        "      <td> 0.661956</td>\n",
        "    </tr>\n",
        "    <tr>\n",
        "      <th>GL2</th>\n",
        "      <td> 2</td>\n",
        "      <td> 0.682889</td>\n",
        "      <td>  637</td>\n",
        "      <td> 6.470289</td>\n",
        "      <td> 0.005167</td>\n",
        "      <td> 0.914</td>\n",
        "      <td> 0.867000</td>\n",
        "      <td> 0.951133</td>\n",
        "      <td> 0.891857</td>\n",
        "      <td> 30.73</td>\n",
        "      <td>...</td>\n",
        "      <td> 27.396958</td>\n",
        "      <td> 27.640952</td>\n",
        "      <td> 1.294757</td>\n",
        "      <td> 0.743346</td>\n",
        "      <td> 0.551411</td>\n",
        "      <td> 0.086013</td>\n",
        "      <td> 1.957909</td>\n",
        "      <td> 1.409655</td>\n",
        "      <td> 0.565077</td>\n",
        "      <td> 0.839120</td>\n",
        "    </tr>\n",
        "    <tr>\n",
        "      <th>GL3</th>\n",
        "      <td> 3</td>\n",
        "      <td> 0.701997</td>\n",
        "      <td>  706</td>\n",
        "      <td> 7.400617</td>\n",
        "      <td> 0.152554</td>\n",
        "      <td> 0.938</td>\n",
        "      <td> 0.944000</td>\n",
        "      <td> 0.909200</td>\n",
        "      <td> 0.859286</td>\n",
        "      <td> 22.37</td>\n",
        "      <td>...</td>\n",
        "      <td> 28.902514</td>\n",
        "      <td> 24.372440</td>\n",
        "      <td> 1.421539</td>\n",
        "      <td> 0.545080</td>\n",
        "      <td> 0.876460</td>\n",
        "      <td> 0.514260</td>\n",
        "      <td> 1.778625</td>\n",
        "      <td> 1.293663</td>\n",
        "      <td> 0.484962</td>\n",
        "      <td> 0.427727</td>\n",
        "    </tr>\n",
        "    <tr>\n",
        "      <th>GL4</th>\n",
        "      <td> 4</td>\n",
        "      <td> 0.583717</td>\n",
        "      <td> 1533</td>\n",
        "      <td> 8.044886</td>\n",
        "      <td> 0.164784</td>\n",
        "      <td> 0.744</td>\n",
        "      <td> 0.744667</td>\n",
        "      <td> 0.762033</td>\n",
        "      <td> 0.750714</td>\n",
        "      <td> 22.78</td>\n",
        "      <td>...</td>\n",
        "      <td> 17.634000</td>\n",
        "      <td> 17.095214</td>\n",
        "      <td> 1.809780</td>\n",
        "      <td> 1.035125</td>\n",
        "      <td> 0.774655</td>\n",
        "      <td> 0.444527</td>\n",
        "      <td> 0.416255</td>\n",
        "      <td> 0.310496</td>\n",
        "      <td> 0.105759</td>\n",
        "      <td> 0.409165</td>\n",
        "    </tr>\n",
        "    <tr>\n",
        "      <th>PJ0</th>\n",
        "      <td> 0</td>\n",
        "      <td>      NaN</td>\n",
        "      <td> 3637</td>\n",
        "      <td> 9.034112</td>\n",
        "      <td> 0.173603</td>\n",
        "      <td> 1.039</td>\n",
        "      <td> 1.065333</td>\n",
        "      <td> 1.048500</td>\n",
        "      <td> 1.026143</td>\n",
        "      <td> 19.93</td>\n",
        "      <td>...</td>\n",
        "      <td> 18.018753</td>\n",
        "      <td> 17.103696</td>\n",
        "      <td>      NaN</td>\n",
        "      <td>      NaN</td>\n",
        "      <td>      NaN</td>\n",
        "      <td>      NaN</td>\n",
        "      <td> 1.247304</td>\n",
        "      <td> 0.750245</td>\n",
        "      <td> 0.497059</td>\n",
        "      <td> 0.778688</td>\n",
        "    </tr>\n",
        "  </tbody>\n",
        "</table>\n",
        "<p>6 rows \u00d7 45 columns</p>\n",
        "</div>"
       ],
       "metadata": {},
       "output_type": "pyout",
       "prompt_number": 3,
       "text": [
        "     Time   betaSIM  Observed_Species   Shannon  Evenness  SolarMax_1  \\\n",
        "GL0     0       NaN               651  5.887908  0.027242       0.998   \n",
        "GL1     1  0.716487               649  6.063710  0.025553       1.071   \n",
        "GL2     2  0.682889               637  6.470289  0.005167       0.914   \n",
        "GL3     3  0.701997               706  7.400617  0.152554       0.938   \n",
        "GL4     4  0.583717              1533  8.044886  0.164784       0.744   \n",
        "PJ0     0       NaN              3637  9.034112  0.173603       1.039   \n",
        "\n",
        "     SolarMax_3  SolarMax_30  SolarMax_7  AirTempMax_1    ...      Stemp_30  \\\n",
        "GL0    1.052000     1.052600    1.016143         21.81    ...     20.011715   \n",
        "GL1    1.110000     1.103167    1.107571         33.62    ...     30.213333   \n",
        "GL2    0.867000     0.951133    0.891857         30.73    ...     27.396958   \n",
        "GL3    0.944000     0.909200    0.859286         22.37    ...     28.902514   \n",
        "GL4    0.744667     0.762033    0.750714         22.78    ...     17.634000   \n",
        "PJ0    1.065333     1.048500    1.026143         19.93    ...     18.018753   \n",
        "\n",
        "       Stemp_7     EMH_m    SEMH_m    LEMH_m   NonAM_m       EMH      SEMH  \\\n",
        "GL0  18.568827       NaN       NaN       NaN       NaN  0.739856  0.410607   \n",
        "GL1  33.692321  0.535295  0.236936  0.298359  0.099382  1.806638  1.193623   \n",
        "GL2  27.640952  1.294757  0.743346  0.551411  0.086013  1.957909  1.409655   \n",
        "GL3  24.372440  1.421539  0.545080  0.876460  0.514260  1.778625  1.293663   \n",
        "GL4  17.095214  1.809780  1.035125  0.774655  0.444527  0.416255  0.310496   \n",
        "PJ0  17.103696       NaN       NaN       NaN       NaN  1.247304  0.750245   \n",
        "\n",
        "         LEMH     NonAM  \n",
        "GL0  0.329249  0.342413  \n",
        "GL1  0.613015  0.661956  \n",
        "GL2  0.565077  0.839120  \n",
        "GL3  0.484962  0.427727  \n",
        "GL4  0.105759  0.409165  \n",
        "PJ0  0.497059  0.778688  \n",
        "\n",
        "[6 rows x 45 columns]"
       ]
      }
     ],
     "prompt_number": 3
    },
    {
     "cell_type": "code",
     "collapsed": false,
     "input": [
      "def polyfit(x, y, degree):\n",
      "    results = {}\n",
      "#     x = x[~np.isnan(y)] \n",
      "#     y = y[~np.isnan(y)]\n",
      "\n",
      "    coeffs = np.polyfit(x, y, degree)\n",
      "    \n",
      "    # Polynomial Coefficients\n",
      "    results['polynomial'] = coeffs.tolist()\n",
      "\n",
      "    # r-squared\n",
      "    p = np.poly1d(coeffs)\n",
      "    # fit values, and mean\n",
      "    yhat = p(x)                         # or [p(z) for z in x]\n",
      "    ybar = np.sum(y)/len(y)          # or sum(y)/len(y)\n",
      "    ssreg = np.sum((yhat-ybar)**2)   # or sum([ (yihat - ybar)**2 for yihat in yhat])\n",
      "    sstot = np.sum((y - ybar)**2)    # or sum([ (yi - ybar)**2 for yi in y])\n",
      "    results['determination'] = ssreg / sstot\n",
      "\n",
      "    return results"
     ],
     "language": "python",
     "metadata": {},
     "outputs": [],
     "prompt_number": 4
    },
    {
     "cell_type": "code",
     "collapsed": false,
     "input": [
      "def make_plot(new_y, new_x, title, label, color, count):\n",
      "\n",
      "    r = math.floor(count/2)\n",
      "    if count % 2 == 0:\n",
      "        c = 0\n",
      "    else:\n",
      "        c = 1\n",
      "    \n",
      "#     yrange = np.amax(new_y) - np.amin(new_y)\n",
      "    axs[r,c].set_title(title, fontsize = 14, fontweight='bold')\n",
      "#     axs[r,c].set_xlabel(predictors[i])\n",
      "#     axs[r,c].set_ylabel(responses[z])\n",
      "    #Delta label\n",
      "    axs[r,c].set_xlabel(ur'$\\u0394$' + predictors[i])\n",
      "    axs[r,c].set_ylabel(ur'$\\u0394$' + responses[z])\n",
      "    axs[r,c].scatter(new_x, new_y, color=color)\n",
      "#     axs[r,c].set_ylim(np.amin(new_y)-0.25*yrange, np.amax(new_y)+0.25*yrange)\n",
      "#     axs[r,c].set_xlim(np.amin(new_x)-0.15*np.amax(new_x), np.amax(new_x)+0.15*np.amax(new_x))\n",
      "\n",
      "\n",
      "    xs = np.linspace(np.amin(new_x), np.amax(new_x), 101)\n",
      "    ys = p(xs)            \n",
      "    axs[r,c].plot(xs, ys, color=color, label = the_label, lw = 2)\n",
      "    axs[r,c].legend(bbox_to_anchor=(1, 1), loc = 2)\n",
      "    axs[r,c].autoscale_view(True,True,True)\n",
      "    axs[r,c].autoscale(True,axis = 'both')\n",
      "    count += 1\n",
      "    \n",
      "    return count"
     ],
     "language": "python",
     "metadata": {},
     "outputs": [],
     "prompt_number": 5
    },
    {
     "cell_type": "code",
     "collapsed": false,
     "input": [
      "# predictors =['Time', 'SolarMax_1','SolarMax_3','SolarMax_30','SolarMax_7','AirTempMax_1', 'AirTempMax_3', 'AirTempMax_30', 'AirTempMax_7', 'AirTempMin_1', 'AirTempMin_3', 'AirTempMin_30', 'AirTempMin_7', 'AirTemp_1', 'AirTemp_3', 'AirTemp_30', 'AirTemp_7', 'Evapo_1', 'Evapo_3', 'Evapo_30', 'Evapo_7', 'Precip_1', 'Precip_3', 'Precip_30', 'Precip_7', 'SWC_1', 'SWC_3', 'SWC_30', 'SWC_7', 'Stemp_1', 'Stemp_3', 'Stemp_30', 'Stemp_7']\n",
      "predictors =['Time', 'SolarMax_3', 'AirTempMax_3', 'AirTempMin_3']\n",
      "# responses =  ['betaSIM', 'Observed_Species', 'Shannon', 'Evenness', 'EMH_m', 'SEMH_m', 'LEMH_m', 'NonAM_m', 'EMH', 'SEMH', 'LEMH', 'NonAM']\n",
      "responses =  ['betaSIM', 'Shannon', 'Evenness', 'EMH', 'EMH_m']"
     ],
     "language": "python",
     "metadata": {},
     "outputs": [],
     "prompt_number": 6
    },
    {
     "cell_type": "code",
     "collapsed": false,
     "input": [
      "print len(responses)*len(predictors)*4"
     ],
     "language": "python",
     "metadata": {},
     "outputs": [
      {
       "output_type": "stream",
       "stream": "stdout",
       "text": [
        "80\n"
       ]
      }
     ],
     "prompt_number": 7
    },
    {
     "cell_type": "code",
     "collapsed": false,
     "input": [
      "final_df.columns.values"
     ],
     "language": "python",
     "metadata": {},
     "outputs": [
      {
       "metadata": {},
       "output_type": "pyout",
       "prompt_number": 8,
       "text": [
        "array(['Time', 'betaSIM', 'Observed_Species', 'Shannon', 'Evenness',\n",
        "       'SolarMax_1', 'SolarMax_3', 'SolarMax_30', 'SolarMax_7',\n",
        "       'AirTempMax_1', 'AirTempMax_3', 'AirTempMax_30', 'AirTempMax_7',\n",
        "       'AirTempMin_1', 'AirTempMin_3', 'AirTempMin_30', 'AirTempMin_7',\n",
        "       'AirTemp_1', 'AirTemp_3', 'AirTemp_30', 'AirTemp_7', 'Evapo_1',\n",
        "       'Evapo_3', 'Evapo_30', 'Evapo_7', 'Precip_1', 'Precip_3',\n",
        "       'Precip_30', 'Precip_7', 'SWC_1', 'SWC_3', 'SWC_30', 'SWC_7',\n",
        "       'Stemp_1', 'Stemp_3', 'Stemp_30', 'Stemp_7', 'EMH_m', 'SEMH_m',\n",
        "       'LEMH_m', 'NonAM_m', 'EMH', 'SEMH', 'LEMH', 'NonAM'], dtype=object)"
       ]
      }
     ],
     "prompt_number": 8
    },
    {
     "cell_type": "code",
     "collapsed": false,
     "input": [
      "pca_df = final_df[['Time','SolarMax_3','AirTempMax_3','AirTemp_3','AirTempMin_3','SWC_3','Evapo_3']]"
     ],
     "language": "python",
     "metadata": {},
     "outputs": [],
     "prompt_number": 10
    },
    {
     "cell_type": "code",
     "collapsed": false,
     "input": [
      "mlab_pca = mlabPCA(pca_df,standardize=True)"
     ],
     "language": "python",
     "metadata": {},
     "outputs": [],
     "prompt_number": 11
    },
    {
     "cell_type": "code",
     "collapsed": false,
     "input": [
      "mlab_pca.fracs[:1].sum()"
     ],
     "language": "python",
     "metadata": {},
     "outputs": [
      {
       "metadata": {},
       "output_type": "pyout",
       "prompt_number": 12,
       "text": [
        "0.67968180013007895"
       ]
      }
     ],
     "prompt_number": 12
    },
    {
     "cell_type": "code",
     "collapsed": false,
     "input": [
      "len(mlab_pca.Wt[0])"
     ],
     "language": "python",
     "metadata": {},
     "outputs": [
      {
       "metadata": {},
       "output_type": "pyout",
       "prompt_number": 13,
       "text": [
        "7"
       ]
      }
     ],
     "prompt_number": 13
    },
    {
     "cell_type": "code",
     "collapsed": false,
     "input": [
      "for i in range(len(mlab_pca.Wt)):\n",
      "    print str(round(mlab_pca.Wt[0][i], 2)) + ' x ' + pca_df.columns.values[i]"
     ],
     "language": "python",
     "metadata": {},
     "outputs": [
      {
       "output_type": "stream",
       "stream": "stdout",
       "text": [
        "0.31 x Time\n",
        "-0.38 x SolarMax_3\n",
        "-0.41 x AirTempMax_3\n",
        "-0.42 x AirTemp_3\n",
        "-0.41 x AirTempMin_3\n",
        "0.27 x SWC_3\n",
        "-0.42 x Evapo_3\n"
       ]
      }
     ],
     "prompt_number": 14
    },
    {
     "cell_type": "code",
     "collapsed": false,
     "input": [
      "response = 'EMH'\n",
      "pca_y = []\n",
      "value = 0\n",
      "\n",
      "df = pd.DataFrame(final_df[response][np.isfinite(final_df[response])].copy())\n",
      "df.columns = ['X']\n",
      "print df\n",
      "for i in range(len(df)):\n",
      "    for j in range(len(mlab_pca.Wt[0])):\n",
      "        value += mlab_pca.Wt[0][j]*df['X'][i]\n",
      "    pca_y.append(value)\n",
      "\n",
      "df['Site'] = df.index\n",
      "df['Y'] = pca_y\n",
      "GL = df[df['Site'].str.contains('G')]\n",
      "PJ = df[df['Site'].str.contains('PJ')]\n",
      "PP = df[df['Site'].str.contains('PP')]\n",
      "\n",
      "fig, ax = plt.subplots()\n",
      "ax.set_xlabel(response)\n",
      "ax.set_ylabel('PCA1')\n",
      "\n",
      "plt.scatter(GL['X'],GL['Y'], color = 'red')\n",
      "for i, txt in enumerate(list(GL.index)):\n",
      "    ax.annotate(txt, (GL['X'][i],GL['Y'][i]))\n",
      "    \n",
      "ax.scatter(PJ['X'],PJ['Y'], color = 'green')\n",
      "for i, txt in enumerate(list(PJ.index)):\n",
      "    ax.annotate(txt, (PJ['X'][i],PJ['Y'][i]))\n",
      "    \n",
      "ax.scatter(PP['X'],PP['Y'], color = 'blue')\n",
      "for i, txt in enumerate(list(PP.index)):\n",
      "    ax.annotate(txt, (PP['X'][i],PP['Y'][i]))\n"
     ],
     "language": "python",
     "metadata": {},
     "outputs": [
      {
       "output_type": "stream",
       "stream": "stdout",
       "text": [
        "            X\n",
        "GL0  0.739856\n",
        "GL1  1.806638\n",
        "GL2  1.957909\n",
        "GL3  1.778625\n",
        "GL4  0.416255\n",
        "PJ0  1.247304\n",
        "PJ1  1.249905\n",
        "PJ2  3.743948\n",
        "PJ3  1.297391\n",
        "PJ4  1.540871\n",
        "PP0  4.595257\n",
        "PP1  2.599399\n",
        "PP2  5.950154\n",
        "PP3  2.319062\n",
        "PP4  2.419027\n"
       ]
      },
      {
       "metadata": {},
       "output_type": "display_data",
       "png": "[encoded data removed]",
       "text": [
        "<matplotlib.figure.Figure at 0x7f76448e8d90>"
       ]
      }
     ],
     "prompt_number": 78
    },
    {
     "cell_type": "code",
     "collapsed": false,
     "input": [
      "pca_y"
     ],
     "language": "python",
     "metadata": {},
     "outputs": [
      {
       "metadata": {},
       "output_type": "pyout",
       "prompt_number": 85,
       "text": [
        "[0.48742189281574422,\n",
        " 1.1902243710913529,\n",
        " 1.2898825723651057,\n",
        " 1.1717692271849205,\n",
        " 0.27423146346867461,\n",
        " 0.82173160648269783,\n",
        " 0.8234450145922948,\n",
        " 2.4665363825314666,\n",
        " 0.85472954265137968,\n",
        " 1.0151358071539733,\n",
        " 3.0273840208541349,\n",
        " 1.7125003037827051,\n",
        " 3.9199988347530255,\n",
        " 1.5278126125759499,\n",
        " 1.5936703181480487]"
       ]
      }
     ],
     "prompt_number": 85
    },
    {
     "cell_type": "code",
     "collapsed": false,
     "input": [
      "print('PC axes in terms of the measurement axes'\\\n",
      "        ' scaled by the standard deviations:\\n',\\\n",
      "          mlab_pca.Wt)\n",
      "\n",
      "plt.plot(mlab_pca.Y[0:20,0],mlab_pca.Y[0:20,1], 'o', markersize=7,\\\n",
      "        color='blue', alpha=0.5, label='class1')\n",
      "plt.plot(mlab_pca.Y[20:40,0], mlab_pca.Y[20:40,1], '^', markersize=7,\\\n",
      "        color='red', alpha=0.5, label='class2')\n",
      "\n",
      "plt.xlabel('x_values')\n",
      "plt.ylabel('y_values')\n",
      "plt.xlim([-4,4])\n",
      "plt.ylim([-4,4])\n",
      "plt.legend()\n",
      "plt.title('Transformed samples with class labels from matplotlib.mlab.PCA()')\n",
      "plt.show()"
     ],
     "language": "python",
     "metadata": {},
     "outputs": [
      {
       "output_type": "stream",
       "stream": "stdout",
       "text": [
        "('PC axes in terms of the measurement axes scaled by the standard deviations:\\n', array([[ 0.31336856, -0.37680789, -0.40580294, -0.42029451, -0.41052335,\n",
        "         0.27266567, -0.41906619],\n",
        "       [ 0.60530211, -0.45625689,  0.38450701,  0.31275992,  0.27215169,\n",
        "        -0.22410536, -0.23555219],\n",
        "       [-0.21195867, -0.15807025,  0.15499881,  0.2030528 ,  0.3355739 ,\n",
        "         0.85557761, -0.14215963],\n",
        "       [ 0.23283089, -0.31123034,  0.16445882, -0.04164234, -0.32340745,\n",
        "         0.24180342,  0.8106068 ],\n",
        "       [-0.60211953, -0.72638292, -0.12660648,  0.00811758,  0.08843815,\n",
        "        -0.29007246,  0.04197013],\n",
        "       [-0.27148016,  0.01550808,  0.68272922,  0.01466018, -0.60971987,\n",
        "        -0.00169076, -0.29658513],\n",
        "       [-0.00483649, -0.01105795,  0.39275771, -0.82600752,  0.40077699,\n",
        "        -0.02834401,  0.04337874]]))\n"
       ]
      },
      {
       "metadata": {},
       "output_type": "display_data",
       "png": "[encoded data removed]",
       "text": [
        "<matplotlib.figure.Figure at 0x7f76451e0f50>"
       ]
      }
     ],
     "prompt_number": 25
    }
   ],
   "metadata": {}
  }
 ]
}